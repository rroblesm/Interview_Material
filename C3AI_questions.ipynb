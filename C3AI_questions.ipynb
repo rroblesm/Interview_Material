{
 "cells": [
  {
   "cell_type": "markdown",
   "id": "151e21e1",
   "metadata": {},
   "source": [
    "### To-do List\n",
    "* Solve all the problems in this list\n",
    "\n",
    "* View the Youtube Explanation for the Solutions\n",
    "\n",
    "    * Draw the explanation in Notability\n",
    "\n",
    "* Finish Coursera videos for Mastering the SWE Interview\n",
    "\n",
    "* Do a general review of the concepts\n"
   ]
  },
  {
   "cell_type": "markdown",
   "id": "efe9ec3e",
   "metadata": {},
   "source": [
    "### Distance between every node to every other node question\n",
    "https://leetcode.com/discuss/interview-question/2827808/Distance-between-every-node-to-every-other-node-question-or-C3.ai-or-New-grad"
   ]
  },
  {
   "cell_type": "code",
   "execution_count": null,
   "id": "578f0279",
   "metadata": {},
   "outputs": [],
   "source": [
    "adj=collections.defaultdict(set)\n",
    "for i j in zip(tree_from,tree_to):\n",
    "    adj[i].add(j)\n",
    "    adj[j].add(i)\n",
    "\n",
    "@cache #memorization for dfs(cur,prev), note dfs(a,b) and dfs(b,a) are two different paths\n",
    "def dfs(cur, prev=-1):\n",
    "    x= sum(sum(dfs(kid,cur)) for kid in adj[cur]-{prev})\n",
    "    y= sum( dfs(kid,cur)[1]  for kid in adj[cur]-{prev})+a[cur-1]\n",
    "    return x,y \n",
    "\n",
    "return max(map(dfs,range(1,tree_nodes+1)))[0]"
   ]
  },
  {
   "cell_type": "markdown",
   "id": "232bb953",
   "metadata": {},
   "source": [
    "### Photo Album Problem\n",
    "https://leetcode.com/discuss/interview-question/424737/photo-album-problem"
   ]
  },
  {
   "cell_type": "code",
   "execution_count": null,
   "id": "9c3697f7",
   "metadata": {},
   "outputs": [],
   "source": []
  },
  {
   "cell_type": "markdown",
   "id": "8844c915",
   "metadata": {},
   "source": [
    "### 20. Valid Parentheses\n",
    "https://leetcode.com/problems/valid-parentheses/"
   ]
  },
  {
   "cell_type": "code",
   "execution_count": 1,
   "id": "7b246edd",
   "metadata": {},
   "outputs": [],
   "source": [
    "def isValid(self, s):\n",
    "    hash_map = {'(':')', '{':'}','[':']'}\n",
    "    stack = []\n",
    "    for i in s:\n",
    "        if i in hash_map: #that is, if it's an open parenthesis\n",
    "            stack.append(i)\n",
    "        elif len(stack) == 0 or hash_map[stack.pop()] != i:  \n",
    "            # if it isn't AND the stack is empty, or \n",
    "            # if the element at the top of the stack is different from it's match in the dictionary\n",
    "            return False\n",
    "\n",
    "    return len(stack) == 0"
   ]
  },
  {
   "cell_type": "markdown",
   "id": "63d17891",
   "metadata": {},
   "source": [
    "### 692. Top K Frequent Words\n",
    "https://leetcode.com/problems/top-k-frequent-words/"
   ]
  },
  {
   "cell_type": "code",
   "execution_count": 2,
   "id": "1d8d668b",
   "metadata": {},
   "outputs": [],
   "source": [
    "def topKFrequent(self, words, k):\n",
    "    hash_map = {}\n",
    "    for word in words:\n",
    "        if word in hash_map:\n",
    "            hash_map[word] += 1\n",
    "        else:\n",
    "            hash_map[word] = 1\n",
    "\n",
    "    return sorted(sorted(hash_map), key=hash_map.get, reverse=True)[:k]"
   ]
  },
  {
   "cell_type": "markdown",
   "id": "727021f8",
   "metadata": {},
   "source": [
    "### 1389. Create Target Array in the Given Order\n",
    "https://leetcode.com/problems/create-target-array-in-the-given-order/"
   ]
  },
  {
   "cell_type": "code",
   "execution_count": null,
   "id": "0ef0ab82",
   "metadata": {},
   "outputs": [],
   "source": [
    "def createTargetArray(self, nums, index):\n",
    "    target = []\n",
    "    for k in range(len(nums)):\n",
    "        target.insert(index[k], nums[k])\n",
    "    return target"
   ]
  },
  {
   "cell_type": "markdown",
   "id": "3a9299d7",
   "metadata": {},
   "source": [
    "### 1282. Group the People Given the Group Size They Belong To\n",
    "https://leetcode.com/problems/group-the-people-given-the-group-size-they-belong-to/"
   ]
  },
  {
   "cell_type": "code",
   "execution_count": null,
   "id": "63a5f10e",
   "metadata": {},
   "outputs": [],
   "source": [
    "def groupThePeople(groupSizes):\n",
    "    groups = []\n",
    "    for i, size in enumerate(groupSizes):\n",
    "        if size <= len(groups):\n",
    "            groups[size - 1].append(i)\n",
    "        else:\n",
    "            new_groups = []\n",
    "            for j in range(size - len(groups)):\n",
    "                new_groups.append([i])\n",
    "            groups.extend(new_groups) # extend adds element by element instead of the whole list\n",
    "\n",
    "'''\n",
    "This code first initializes an empty list called new_groups. \n",
    "It then uses a for loop to iterate over a range of numbers \n",
    "from 0 to size - len(groups) - 1. \n",
    "\n",
    "For each iteration, it appends a new list containing a single element i \n",
    "to the new_groups list. \n",
    "Finally, it extends the groups list with the new_groups list.\n",
    "'''"
   ]
  },
  {
   "cell_type": "markdown",
   "id": "6f701aea",
   "metadata": {},
   "source": [
    "### 1419. Minimum Number of Frogs Croaking\n",
    "https://leetcode.com/problems/minimum-number-of-frogs-croaking/"
   ]
  },
  {
   "cell_type": "code",
   "execution_count": 58,
   "id": "f2899207",
   "metadata": {},
   "outputs": [
    {
     "name": "stdout",
     "output_type": "stream",
     "text": [
      "1\n",
      "2\n",
      "-1\n",
      "-1\n",
      "-1\n"
     ]
    }
   ],
   "source": [
    "def minNumberOfFrogs(croakOfFrogs):\n",
    "    hash_map = {}\n",
    "    number_of_frogs = current_frog_croak = 0\n",
    "    for char in \"croak\":\n",
    "        hash_map[char] = 0\n",
    "        \n",
    "    for s in croakOfFrogs:\n",
    "        if s == 'c':\n",
    "            hash_map['c'] += 1\n",
    "            current_frog_croak += 1\n",
    "        elif s == 'r':\n",
    "            hash_map['r'] += 1\n",
    "            if current_frog_croak == 0 or hash_map['r']>hash_map['c']:\n",
    "                return -1\n",
    "        elif s == 'o':\n",
    "            hash_map['o'] += 1\n",
    "            if current_frog_croak == 0 or hash_map['o']>hash_map['r']:\n",
    "                return -1            \n",
    "        elif s == 'a':\n",
    "            hash_map['a'] += 1    \n",
    "            if current_frog_croak == 0 or hash_map['a']>hash_map['o']:\n",
    "                return -1\n",
    "        elif s == 'k':\n",
    "            hash_map['k'] += 1\n",
    "            if hash_map['k']>hash_map['r']:\n",
    "                return -1\n",
    "            current_frog_croak -= 1\n",
    "        else:\n",
    "            return -1\n",
    "        number_of_frogs = max(number_of_frogs, current_frog_croak)\n",
    "    \n",
    "    if hash_map['c'] < hash_map['r'] or hash_map['r'] < hash_map['o'] or hash_map['o'] < hash_map['a'] or hash_map['a'] < hash_map['k'] or current_frog_croak != 0:\n",
    "        return -1\n",
    "    \n",
    "    return number_of_frogs\n",
    "    \n",
    "print(minNumberOfFrogs(\"croakcroak\")) #1\n",
    "print(minNumberOfFrogs(\"crcoakroak\")) #2\n",
    "print(minNumberOfFrogs(\"croakcrook\")) #-1\n",
    "print(minNumberOfFrogs(\"kcrrackk\")) #-1\n",
    "print(minNumberOfFrogs(\"coark\")) #-1"
   ]
  },
  {
   "cell_type": "markdown",
   "id": "f3702bda",
   "metadata": {},
   "source": [
    "### 42. Trapping Rain Water\n",
    "https://leetcode.com/problems/trapping-rain-water/"
   ]
  },
  {
   "cell_type": "code",
   "execution_count": 27,
   "id": "bc5e6b58",
   "metadata": {},
   "outputs": [
    {
     "name": "stdout",
     "output_type": "stream",
     "text": [
      "Index: 0\n",
      "2\n",
      "Index: 1\n",
      "6\n",
      "Index: 2\n",
      "6\n",
      "Index: 3\n",
      "7\n",
      "Index: 4\n",
      "7\n",
      "Index: 5\n",
      "10\n"
     ]
    },
    {
     "data": {
      "text/plain": [
       "10"
      ]
     },
     "execution_count": 27,
     "metadata": {},
     "output_type": "execute_result"
    }
   ],
   "source": [
    "#REAL SOLUTION\n",
    "def trap(self, height):\n",
    "    waterLevel = []\n",
    "    left = 0\n",
    "    for h in height:\n",
    "        left = max(left, h) \n",
    "        waterLevel += [left] # over-fill it to left max height\n",
    "    right = 0\n",
    "    for i, h in reversed(list(enumerate(height))):\n",
    "        right = max(right, h)\n",
    "        waterLevel[i] = min(waterLevel[i], right) - h # drain to the right height\n",
    "    return sum(waterLevel)"
   ]
  },
  {
   "cell_type": "markdown",
   "id": "055bbfb6",
   "metadata": {},
   "source": [
    "### 207. Course Schedule\n",
    "https://leetcode.com/problems/course-schedule/"
   ]
  },
  {
   "cell_type": "code",
   "execution_count": 2,
   "id": "8a45e2e4",
   "metadata": {},
   "outputs": [],
   "source": [
    "def canFinish(numCourses, prerequisites):\n",
    "    prerequisite_map = {i:[] for i in range (numCourses)}\n",
    "    for course, prerequisite in prerequisites:\n",
    "        prerequisite_map[course].append(prerequisite)\n",
    "        \n",
    "    visitSet = set()\n",
    "    def dfs(course): # we define it inside the function so that we don't\n",
    "        #have to pass the parameters all over again\n",
    "        if course in visitSet:\n",
    "            return False\n",
    "        if prerequisite_Map == []:\n",
    "            return True\n",
    "        \n",
    "        visitSet.add(course)\n",
    "        for prerequisite in prerequisite_map[course]:\n",
    "            if not dfs(prerequisite):\n",
    "                return False\n",
    "        visitSet.remove(course)\n",
    "        prerequisite[course] = []\n",
    "        return True\n",
    "    \n",
    "    for course in range(numCourse): #we do this in case our graph is not\n",
    "        #fully connected\n",
    "        if not dfs(course):\n",
    "            return False\n",
    "    return True"
   ]
  },
  {
   "cell_type": "markdown",
   "id": "0a44efe6",
   "metadata": {},
   "source": [
    "### 739. Daily Temperatures\n",
    "https://leetcode.com/problems/daily-temperatures/"
   ]
  },
  {
   "cell_type": "code",
   "execution_count": 4,
   "id": "16a8873f",
   "metadata": {},
   "outputs": [],
   "source": [
    "def dailyTemperatures(temperatures):\n",
    "    res = [0] * len(temperatures)\n",
    "    stack = []\n",
    "    for i, t in enumerate(temperatures):\n",
    "        while stack and t > stack[-1][0]:\n",
    "            stackTemperature, stackIndex = stack.pop()\n",
    "            res[stackIndex] = (i - stackIndex)\n",
    "        stack.append([t, i])\n",
    "    return res"
   ]
  },
  {
   "cell_type": "markdown",
   "id": "0f0ecbcc",
   "metadata": {},
   "source": [
    "### 1220. Count Vowels Permutation\n",
    "https://leetcode.com/problems/count-vowels-permutation/"
   ]
  },
  {
   "cell_type": "code",
   "execution_count": null,
   "id": "15cb05d5",
   "metadata": {},
   "outputs": [],
   "source": [
    "#constant time calculation * n, ergo O(n)\n",
    "def countVowelPermutation(n):\n",
    "    #dp[j][c] = num of strs of len=i\n",
    "    #where last char is c\n",
    "    \n",
    "    dp = [[], [1,1,1,1,1]]\n",
    "    a, e, i, o, u = 0, 1, 2, 3, 4\n",
    "    mod = 10**9 +7\n",
    "    \n",
    "    for j in range(2, n+1):\n",
    "        dp.append([0,0,0,0,0])\n",
    "        dp[j][a] = dp[j-1][e] + dp[j-1][i] + dp[j-1][u] \n",
    "        dp[j][e] = dp[j-1][a] + dp[j-1][i]\n",
    "        dp[j][i] = dp[j-1][e] + dp[j-1][o]\n",
    "        dp[j][o] = dp[j-1][i]\n",
    "        dp[j][u] = dp[j-1][i] + dp[j-1][o]\n",
    "    return sum(dp[n]) & mod\n",
    "    "
   ]
  },
  {
   "cell_type": "markdown",
   "id": "d55b6d0f",
   "metadata": {},
   "source": [
    "### 56. Merge Intervals\n",
    "\n",
    "https://leetcode.com/problems/merge-intervals/"
   ]
  },
  {
   "cell_type": "code",
   "execution_count": null,
   "id": "a3b9f54f",
   "metadata": {},
   "outputs": [],
   "source": [
    "#O (nlogn)\n",
    "def merge(intervals):\n",
    "    intervals.sort(key = lambda i : i[0]) # we are going to sort the arrays by the first value\n",
    "    output = [intervals[0]] # we take the first interval to avoid edge cases\n",
    "    \n",
    "    for start, end in intervals[1:]:\n",
    "        lastEnd = output[-1][1] #get the end value of the most recent value\n",
    "        #thats the most recently added interval\n",
    "        if start <= lastEnd:\n",
    "            output[-1][1] = max(lastEnd, end)\n",
    "            #we do the max in case we have a case like [1,5], [2,4] = [1,5]\n",
    "            #because we sorted by start value, but the end value is larger on the first\n",
    "        else:\n",
    "            output.append([start, end])\n",
    "            #the intervals are non overlapping, so we proceed to the next one\n",
    "    return output"
   ]
  },
  {
   "cell_type": "markdown",
   "id": "21de27a6",
   "metadata": {},
   "source": [
    "### 647. Palindromic Substrings\n",
    " https://leetcode.com/problems/palindromic-substrings/"
   ]
  },
  {
   "cell_type": "code",
   "execution_count": 3,
   "id": "5156aee6",
   "metadata": {},
   "outputs": [],
   "source": [
    "def countSubstrings(s):\n",
    "    res = 0\n",
    "    \n",
    "    for i in range(len(s)):\n",
    "        l=r=i\n",
    "        while l>=0 and r < len(s) and s[l]==s[r]: # odd length palindromes\n",
    "            res +=1\n",
    "            l -= 1\n",
    "            r += 1\n",
    "        \n",
    "        l=i\n",
    "        r = i +1\n",
    "        while l>=0 and r < len(s) and s[l]==s[r]: # even length palindromes\n",
    "            res +=1\n",
    "            l -= 1\n",
    "            r += 1\n",
    "            \n",
    "    return res"
   ]
  },
  {
   "cell_type": "markdown",
   "id": "92f336a4",
   "metadata": {},
   "source": [
    "20. Valid Parentheses\n",
    "* https://leetcode.com/problems/valid-parentheses/\n",
    "* https://www.youtube.com/watch?v=WTzjTskDFMg\n",
    "\n",
    "\n",
    "1282. Group the People Given the Group Size They Belong To\n",
    "* https://leetcode.com/problems/group-the-people-given-the-group-size-they-belong-to/\n",
    "* https://www.youtube.com/watch?v=wGgcRCpSAa8\n",
    "\n",
    "1419. Minimum Number of Frogs Croaking\n",
    "* https://leetcode.com/problems/minimum-number-of-frogs-croaking/\n",
    "* https://www.youtube.com/watch?v=ZePHjSG33Hc\n",
    "\n",
    "692. Top K Frequent Words\n",
    "* https://leetcode.com/problems/top-k-frequent-words/\n",
    "* https://www.youtube.com/watch?v=YPTqKIgVk-k\n",
    "\n",
    "42. Trapping Rain Water\n",
    "* https://leetcode.com/problems/trapping-rain-water/'\n",
    "* https://www.youtube.com/watch?v=ZI2z5pq0TqA\n",
    "\n",
    "207. Course Schedule\n",
    "* https://leetcode.com/problems/course-schedule/\n",
    "* https://www.youtube.com/watch?v=EgI5nU9etnU\n",
    "\n",
    "739. Daily Temperatures\n",
    "* https://leetcode.com/problems/daily-temperatures/\n",
    "* https://www.youtube.com/watch?v=cTBiBSnjO3c\n",
    "\n",
    "1220. Count Vowels Permutation\n",
    "* https://leetcode.com/problems/count-vowels-permutation/\n",
    "* https://www.youtube.com/watch?v=VUVpTZVa7Ls\n",
    "\n",
    "1389. Create Target Array in the Given Order\n",
    "* https://leetcode.com/problems/create-target-array-in-the-given-order/\n",
    "* https://www.youtube.com/watch?v=Hlfs4StVd-o\n",
    "\n",
    "56. Merge Intervals\n",
    "* https://leetcode.com/problems/merge-intervals/\n",
    "* https://www.youtube.com/watch?v=44H3cEC2fFM\n",
    "\n",
    "647. Palindromic Substrings\n",
    "* https://leetcode.com/problems/palindromic-substrings/\n",
    "* https://www.youtube.com/watch?v=4RACzI5-du8\n",
    "\n",
    "0. Distance between every node to every other node\n",
    "\n",
    "The question was something like determine the node with maximum beauty. Given 4 variables\n",
    "\n",
    "tree_nodes : int => indicates number of nodes in the graph\n",
    "tree_from : list => array of nodes that indicate the edge starting from\n",
    "tree_to: list => array of nodes that indicate the end of the edge\n",
    "a : list => an array with certain values  (length same as tree_nodes)\n",
    "\n",
    "Question determine the node with maximum beauty. Which is calculated as below for every node\n",
    "d(i, 1)*a[1] + d(i,2)*a[2] + d(i,3)*a[3] + .... + d(i, tree_nodes)*a[tree_nodes]\n",
    "where d is the distance between node i to node j .\n",
    "where 1 <= i <= tree_nodes\n",
    "Note: all edges are undirectional and with weight 1. No cycles in the graph.\n",
    "\n",
    "Constraints:\n",
    "1 <= tree_nodes <= 10^5\n",
    "\n",
    "My approach:\n",
    "\n",
    "    Created Adjacency matrix from the given edges\n",
    "    Applied Belmann ford algorithm to determine the distance from every node to every other node\n",
    "\n",
    "Result:\n",
    "TLE - Time Limit Exceeded\n",
    "MLE - Memory Limit Exceeded\n",
    "\n",
    "How would you solve this question?\n"
   ]
  },
  {
   "cell_type": "markdown",
   "id": "88d9fd1d",
   "metadata": {},
   "source": [
    "## Unique Problems\n",
    "\n",
    "### Photo Album Problem\n",
    "https://leetcode.com/discuss/interview-question/424737/photo-album-problem\n",
    "\n",
    "\n",
    "### Array of Unique elements maintaining the order of elements from the original array in the new array\n",
    "Given an unsorted array with positive numbers , return a single array where all the elements are unique and the order for duplicate elements is maintained based on the below given condition determined by another parameter k.\n",
    "\n",
    "    * Rule1: If the count of a duplicate element is less than k , the new array should hold the value of the largest indexed duplicate element found in the array.\n",
    "\n",
    "    * Rule2. If the count of a duplicate element is greater than or equal to k, return the kth indexed duplicate element from the list.\n",
    "\n",
    "* Example:\n",
    "Input: [1,2,1,3,2,1] k=1\n",
    "Output: [1,2,3]\n",
    "Reasoning: Duplicates are {1,2,3} each with count of [3,2,1] in the original array.\n",
    "For k=1 , 1 occurs at 0,2,5 whose size is greater than k i.e. k(1)>count(3) for 1. so based on rule 1 choose k=1 th element in the original array i.e the first 1 in the array.\n",
    "\n",
    "* Example:\n",
    "Input: [1,2,1,3,2,1] k=2\n",
    "Output: [1,3,2]\n",
    "\n",
    "* Example:\n",
    "Input: [1,2,1,3,2,1] k=3\n",
    "Output: [3,2,1]\n",
    "\n",
    "Solve this in O(n) TC , it is ok to have extra space complexity."
   ]
  },
  {
   "cell_type": "code",
   "execution_count": 1,
   "id": "d24d7544",
   "metadata": {},
   "outputs": [
    {
     "name": "stdout",
     "output_type": "stream",
     "text": [
      "('USD', 'EUR', 0.8)\n"
     ]
    }
   ],
   "source": [
    "def max_exchange_rate(exchange_rates, selected_currency, target_currency):\n",
    "    return max([rate for rate in exchange_rates if rate[0] == selected_currency and rate[1] == target_currency])\n",
    "\n",
    "exchange_rates = [\n",
    "    (\"USD\", \"EUR\", 0.8),\n",
    "    (\"EUR\", \"USD\", 1.2),\n",
    "    (\"USD\", \"GBP\", 0.6),\n",
    "    (\"GBP\", \"USD\", 1.6),\n",
    "    (\"USD\", \"CAD\", 0.9),\n",
    "    (\"CAD\", \"USD\", 1.1),\n",
    "]\n",
    "\n",
    "selected_currency = \"USD\"\n",
    "target_currency = \"EUR\"\n",
    "\n",
    "result = max_exchange_rate(exchange_rates, selected_currency, target_currency)\n",
    "\n",
    "if result is None:\n",
    "    print(-1.0)\n",
    "else:\n",
    "    print(result)"
   ]
  }
 ],
 "metadata": {
  "kernelspec": {
   "display_name": "Python 3 (ipykernel)",
   "language": "python",
   "name": "python3"
  },
  "language_info": {
   "codemirror_mode": {
    "name": "ipython",
    "version": 3
   },
   "file_extension": ".py",
   "mimetype": "text/x-python",
   "name": "python",
   "nbconvert_exporter": "python",
   "pygments_lexer": "ipython3",
   "version": "3.9.7"
  }
 },
 "nbformat": 4,
 "nbformat_minor": 5
}
